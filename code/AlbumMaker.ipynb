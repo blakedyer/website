{
 "cells": [
  {
   "cell_type": "markdown",
   "metadata": {
    "toc": true
   },
   "source": [
    "<h1>Table of Contents<span class=\"tocSkip\"></span></h1>\n",
    "<div class=\"toc\"><ul class=\"toc-item\"></ul></div>"
   ]
  },
  {
   "cell_type": "code",
   "execution_count": 1,
   "metadata": {},
   "outputs": [],
   "source": [
    "import os\n",
    "import numpy as np\n",
    "import imageio\n",
    "from PIL import Image, ExifTags\n"
   ]
  },
  {
   "cell_type": "code",
   "execution_count": 3,
   "metadata": {},
   "outputs": [
    {
     "ename": "AttributeError",
     "evalue": "'NoneType' object has no attribute 'items'",
     "output_type": "error",
     "traceback": [
      "\u001b[0;31m---------------------------------------------------------------------------\u001b[0m",
      "\u001b[0;31mAttributeError\u001b[0m                            Traceback (most recent call last)",
      "\u001b[0;32m<ipython-input-3-9a7dc9448a19>\u001b[0m in \u001b[0;36m<module>\u001b[0;34m\u001b[0m\n\u001b[0;32m----> 1\u001b[0;31m \u001b[0mmake_html\u001b[0m\u001b[0;34m(\u001b[0m\u001b[0;34m'_canadian_rockies_2021'\u001b[0m\u001b[0;34m)\u001b[0m\u001b[0;34m\u001b[0m\u001b[0;34m\u001b[0m\u001b[0m\n\u001b[0m",
      "\u001b[0;32m<ipython-input-2-07facce16f38>\u001b[0m in \u001b[0;36mmake_html\u001b[0;34m(suffix)\u001b[0m\n\u001b[1;32m     13\u001b[0m \u001b[0;34m\u001b[0m\u001b[0m\n\u001b[1;32m     14\u001b[0m         \u001b[0mexif_img\u001b[0m \u001b[0;34m=\u001b[0m \u001b[0mImage\u001b[0m\u001b[0;34m.\u001b[0m\u001b[0mopen\u001b[0m\u001b[0;34m(\u001b[0m\u001b[0mdirectory\u001b[0m\u001b[0;34m+\u001b[0m\u001b[0mimg\u001b[0m\u001b[0;34m)\u001b[0m\u001b[0;34m\u001b[0m\u001b[0;34m\u001b[0m\u001b[0m\n\u001b[0;32m---> 15\u001b[0;31m         \u001b[0mexif\u001b[0m \u001b[0;34m=\u001b[0m \u001b[0;34m{\u001b[0m \u001b[0mExifTags\u001b[0m\u001b[0;34m.\u001b[0m\u001b[0mTAGS\u001b[0m\u001b[0;34m[\u001b[0m\u001b[0mk\u001b[0m\u001b[0;34m]\u001b[0m\u001b[0;34m:\u001b[0m \u001b[0mv\u001b[0m \u001b[0;32mfor\u001b[0m \u001b[0mk\u001b[0m\u001b[0;34m,\u001b[0m \u001b[0mv\u001b[0m \u001b[0;32min\u001b[0m \u001b[0mexif_img\u001b[0m\u001b[0;34m.\u001b[0m\u001b[0m_getexif\u001b[0m\u001b[0;34m(\u001b[0m\u001b[0;34m)\u001b[0m\u001b[0;34m.\u001b[0m\u001b[0mitems\u001b[0m\u001b[0;34m(\u001b[0m\u001b[0;34m)\u001b[0m \u001b[0;32mif\u001b[0m \u001b[0mk\u001b[0m \u001b[0;32min\u001b[0m \u001b[0mExifTags\u001b[0m\u001b[0;34m.\u001b[0m\u001b[0mTAGS\u001b[0m \u001b[0;34m}\u001b[0m\u001b[0;34m\u001b[0m\u001b[0;34m\u001b[0m\u001b[0m\n\u001b[0m\u001b[1;32m     16\u001b[0m         \u001b[0mtimestamp\u001b[0m\u001b[0;34m=\u001b[0m\u001b[0mexif\u001b[0m\u001b[0;34m[\u001b[0m\u001b[0;34m'DateTimeOriginal'\u001b[0m\u001b[0;34m]\u001b[0m\u001b[0;34m\u001b[0m\u001b[0;34m\u001b[0m\u001b[0m\n\u001b[1;32m     17\u001b[0m         \u001b[0mtstamps\u001b[0m\u001b[0;34m.\u001b[0m\u001b[0mappend\u001b[0m\u001b[0;34m(\u001b[0m\u001b[0mtimestamp\u001b[0m\u001b[0;34m)\u001b[0m\u001b[0;34m\u001b[0m\u001b[0;34m\u001b[0m\u001b[0m\n",
      "\u001b[0;31mAttributeError\u001b[0m: 'NoneType' object has no attribute 'items'"
     ]
    }
   ],
   "source": [
    "\n",
    "make_html('_canadian_rockies_2021')"
   ]
  },
  {
   "cell_type": "code",
   "execution_count": null,
   "metadata": {},
   "outputs": [],
   "source": []
  },
  {
   "cell_type": "code",
   "execution_count": 2,
   "metadata": {},
   "outputs": [],
   "source": [
    "def make_html(suffix):\n",
    "    directory='/limestone/jupyter/blake/website/Gallery/large'+suffix+'/'\n",
    "    directory_m='/limestone/jupyter/blake/website/Gallery/med'+suffix+'/'\n",
    "    directory_t='/limestone/jupyter/blake/website/Gallery/thumb'+suffix+'/'\n",
    "    \n",
    "    files=os.listdir(directory)\n",
    "    files = [f for f in files if '.jpg' in f]\n",
    "\n",
    "    tstamps = []\n",
    "    for f in files:\n",
    "\n",
    "        img=f\n",
    "\n",
    "        exif_img = Image.open(directory+img)\n",
    "        exif = { ExifTags.TAGS[k]: v for k, v in exif_img._getexif().items() if k in ExifTags.TAGS }\n",
    "        timestamp=exif['DateTimeOriginal']\n",
    "        tstamps.append(timestamp)\n",
    "\n",
    "    files=[x for _,x in sorted(zip(tstamps,files))]\n",
    "\n",
    "\n",
    "    files_t=os.listdir(directory_t)\n",
    "    files_t = [f for f in files_t if '.jpg' in f]\n",
    "\n",
    "    tstamps = []\n",
    "    for f in files_t:\n",
    "\n",
    "        img=f\n",
    "\n",
    "        exif_img = Image.open(directory_t+img)\n",
    "        exif = { ExifTags.TAGS[k]: v for k, v in exif_img._getexif().items() if k in ExifTags.TAGS }\n",
    "        timestamp=exif['DateTimeOriginal']\n",
    "        tstamps.append(timestamp)\n",
    "\n",
    "    files_t=[x for _,x in sorted(zip(tstamps,files_t))]\n",
    "    \n",
    "    files_m=os.listdir(directory_m)\n",
    "    files_m = [f for f in files_m if '.jpg' in f]\n",
    "\n",
    "    tstamps = []\n",
    "    for f in files_m:\n",
    "\n",
    "        img=f\n",
    "\n",
    "        exif_img = Image.open(directory_m+img)\n",
    "        exif = { ExifTags.TAGS[k]: v for k, v in exif_img._getexif().items() if k in ExifTags.TAGS }\n",
    "        timestamp=exif['DateTimeOriginal']\n",
    "        tstamps.append(timestamp)\n",
    "\n",
    "    files_t=[x for _,x in sorted(zip(tstamps,files_m))]\n",
    "\n",
    "\n",
    "    for f,f_t,f_m in zip(files,files_t,files_m):\n",
    "        img=f\n",
    "        img_t=f_t\n",
    "        img_m=f_m\n",
    "        exif_img = Image.open(directory+img)\n",
    "        exif = { ExifTags.TAGS[k]: v for k, v in exif_img._getexif().items() if k in ExifTags.TAGS }\n",
    "        if 'ImageDescription' in exif.keys():\n",
    "            comm = exif['ImageDescription']\n",
    "        else:\n",
    "                comm = ''\n",
    "\n",
    "        if 'Artist' in exif.keys():\n",
    "            auth=exif['Artist']\n",
    "        else:\n",
    "            auth='Blake Dyer'\n",
    "        \n",
    "\n",
    "        im = imageio.imread(directory+img)\n",
    "        im_m = imageio.imread(directory_m+img_m)\n",
    "        print('<a href=\"'+directory+img+'\" data-size=\"'+str(im.shape[1])+'x'+str(im.shape[0])+'\" '+\n",
    "              'data-med=\"'+directory_m+img_m+'\" data-med-size=\"'+str(im_m.shape[1])+'x'+str(im_m.shape[0])+'\" '+\n",
    "              'class=\"demo-gallery__img--main\" data-author=\"'+auth+'\">')\n",
    "\n",
    "        print('<img src=\"'+directory_t+img_t+'\" alt=\"\" id=\"thumb\" />')\n",
    "\n",
    "        print('<figure>'+comm+' </figure>')\n",
    "        print('</a>')\n",
    "        print('')"
   ]
  },
  {
   "cell_type": "code",
   "execution_count": 53,
   "metadata": {},
   "outputs": [],
   "source": []
  },
  {
   "cell_type": "code",
   "execution_count": null,
   "metadata": {},
   "outputs": [],
   "source": []
  },
  {
   "cell_type": "code",
   "execution_count": null,
   "metadata": {},
   "outputs": [],
   "source": []
  },
  {
   "cell_type": "code",
   "execution_count": null,
   "metadata": {},
   "outputs": [],
   "source": []
  },
  {
   "cell_type": "code",
   "execution_count": null,
   "metadata": {
    "collapsed": true
   },
   "outputs": [],
   "source": []
  }
 ],
 "metadata": {
  "kernelspec": {
   "display_name": "jupyterbase",
   "language": "python",
   "name": "jupyterbase"
  },
  "language_info": {
   "codemirror_mode": {
    "name": "ipython",
    "version": 3
   },
   "file_extension": ".py",
   "mimetype": "text/x-python",
   "name": "python",
   "nbconvert_exporter": "python",
   "pygments_lexer": "ipython3",
   "version": "3.7.8"
  },
  "toc": {
   "base_numbering": 1,
   "nav_menu": {},
   "number_sections": true,
   "sideBar": true,
   "skip_h1_title": false,
   "title_cell": "Table of Contents",
   "title_sidebar": "Contents",
   "toc_cell": true,
   "toc_position": {},
   "toc_section_display": true,
   "toc_window_display": false
  }
 },
 "nbformat": 4,
 "nbformat_minor": 1
}
